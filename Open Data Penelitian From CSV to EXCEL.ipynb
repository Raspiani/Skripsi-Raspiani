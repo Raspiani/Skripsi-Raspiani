{
 "cells": [
  {
   "cell_type": "markdown",
   "metadata": {},
   "source": [
    "## Open Data Penelitian From CSV to EXCEL"
   ]
  },
  {
   "cell_type": "code",
   "execution_count": 5,
   "metadata": {},
   "outputs": [],
   "source": [
    "#memasukan modul yang digunakan\n",
    "import pandas as pd"
   ]
  },
  {
   "cell_type": "code",
   "execution_count": 6,
   "metadata": {},
   "outputs": [],
   "source": [
    "#memasukan data \n",
    "data0 = pd.read_csv(\"D:/Data Penelitian/1. Data Hasil Crawling Tanpa Clean/Hasil_Tweets3.csv\")\n",
    "data1 = pd.read_csv(\"D:/Data Penelitian/1. Data Hasil Crawling Tanpa Clean/Hasil_Tweets6.csv\")\n",
    "data2 = pd.read_csv(\"D:/Data Penelitian/1. Data Hasil Crawling Tanpa Clean/Hasil_Tweets9.csv\")\n",
    "data3 = pd.read_csv(\"D:/Data Penelitian/1. Data Hasil Crawling Tanpa Clean/Hasil_Tweets11.csv\")\n",
    "data4 = pd.read_csv(\"D:/Data Penelitian/1. Data Hasil Crawling Tanpa Clean/Hasil_Tweets12.csv\")"
   ]
  },
  {
   "cell_type": "code",
   "execution_count": 7,
   "metadata": {},
   "outputs": [
    {
     "name": "stdout",
     "output_type": "stream",
     "text": [
      "True\n",
      "True\n",
      "True\n",
      "True\n",
      "True\n"
     ]
    }
   ],
   "source": [
    "#memeriksa apakah ada data missing value atau tidak\n",
    "print(data0.isnull().any().any())\n",
    "print(data1.isnull().any().any())\n",
    "print(data2.isnull().any().any())\n",
    "print(data3.isnull().any().any())\n",
    "print(data4.isnull().any().any())"
   ]
  },
  {
   "cell_type": "code",
   "execution_count": 8,
   "metadata": {},
   "outputs": [],
   "source": [
    "#mengeluarkan data yang kosong atau data missing value\n",
    "data0_0 = data0.dropna()\n",
    "data1_1 = data1.dropna()\n",
    "data2_2 = data2.dropna()\n",
    "data3_3 = data3.dropna()\n",
    "data4_4 = data4.dropna()"
   ]
  },
  {
   "cell_type": "code",
   "execution_count": 9,
   "metadata": {},
   "outputs": [
    {
     "name": "stdout",
     "output_type": "stream",
     "text": [
      "76987\n",
      "162608\n",
      "21234\n",
      "38696\n",
      "64754\n"
     ]
    }
   ],
   "source": [
    "#melihat panjang data \n",
    "print(len(data0))\n",
    "print(len(data1))\n",
    "print(len(data2))\n",
    "print(len(data3))\n",
    "print(len(data4))"
   ]
  },
  {
   "cell_type": "code",
   "execution_count": 10,
   "metadata": {},
   "outputs": [
    {
     "data": {
      "text/plain": [
       "364279"
      ]
     },
     "execution_count": 10,
     "metadata": {},
     "output_type": "execute_result"
    }
   ],
   "source": [
    "#menjumlahkan data \n",
    "total_data = len(data0) + len(data1) + len(data2) +len(data3) + len(data4)\n",
    "total_data"
   ]
  },
  {
   "cell_type": "code",
   "execution_count": 11,
   "metadata": {},
   "outputs": [
    {
     "name": "stdout",
     "output_type": "stream",
     "text": [
      "49426\n",
      "101697\n",
      "13765\n",
      "24652\n",
      "41973\n"
     ]
    }
   ],
   "source": [
    "#melihat panjang data setelah data di dropna \n",
    "print(len(data0_0))\n",
    "print(len(data1_1))\n",
    "print(len(data2_2))\n",
    "print(len(data3_3))\n",
    "print(len(data4_4))"
   ]
  },
  {
   "cell_type": "code",
   "execution_count": 12,
   "metadata": {},
   "outputs": [
    {
     "data": {
      "text/plain": [
       "231513"
      ]
     },
     "execution_count": 12,
     "metadata": {},
     "output_type": "execute_result"
    }
   ],
   "source": [
    "#menjumlahkan data (dalam hal ini data yang memiliki lokasi) \n",
    "total_data_lokasi = len(data0_0) + len(data1_1) + len(data2_2) +len(data3_3) + len(data4_4)\n",
    "total_data_lokasi"
   ]
  },
  {
   "cell_type": "code",
   "execution_count": 13,
   "metadata": {},
   "outputs": [
    {
     "data": {
      "text/plain": [
       "132766"
      ]
     },
     "execution_count": 13,
     "metadata": {},
     "output_type": "execute_result"
    }
   ],
   "source": [
    "#melihat total data (dalam hal ini total data tanpa lokasi)\n",
    "total_data_tanpa_lokasi = total_data - total_data_lokasi\n",
    "total_data_tanpa_lokasi"
   ]
  },
  {
   "cell_type": "code",
   "execution_count": 14,
   "metadata": {},
   "outputs": [
    {
     "data": {
      "text/html": [
       "<div>\n",
       "<style scoped>\n",
       "    .dataframe tbody tr th:only-of-type {\n",
       "        vertical-align: middle;\n",
       "    }\n",
       "\n",
       "    .dataframe tbody tr th {\n",
       "        vertical-align: top;\n",
       "    }\n",
       "\n",
       "    .dataframe thead th {\n",
       "        text-align: right;\n",
       "    }\n",
       "</style>\n",
       "<table border=\"1\" class=\"dataframe\">\n",
       "  <thead>\n",
       "    <tr style=\"text-align: right;\">\n",
       "      <th></th>\n",
       "      <th>username</th>\n",
       "      <th>tweet</th>\n",
       "      <th>lat</th>\n",
       "      <th>lon</th>\n",
       "      <th>location</th>\n",
       "    </tr>\n",
       "  </thead>\n",
       "  <tbody>\n",
       "    <tr>\n",
       "      <th>1</th>\n",
       "      <td>gembel68</td>\n",
       "      <td>RT @peni_me: Selamat pagi pak @jokowi mana inf...</td>\n",
       "      <td></td>\n",
       "      <td></td>\n",
       "      <td>Indonesia</td>\n",
       "    </tr>\n",
       "    <tr>\n",
       "      <th>2</th>\n",
       "      <td>HadiantoBroer</td>\n",
       "      <td>Pola omongan para menteri dua negara yg hampir...</td>\n",
       "      <td></td>\n",
       "      <td></td>\n",
       "      <td>Jawa Barat, Indonesia</td>\n",
       "    </tr>\n",
       "    <tr>\n",
       "      <th>4</th>\n",
       "      <td>Syamsud41732201</td>\n",
       "      <td>RT @Ain17310272: @NetizenTofa Anak saya suka b...</td>\n",
       "      <td></td>\n",
       "      <td></td>\n",
       "      <td>Klaten, Jawa Tengah</td>\n",
       "    </tr>\n",
       "    <tr>\n",
       "      <th>9</th>\n",
       "      <td>sonny_reudet</td>\n",
       "      <td>RT @Gemacan70:  ternyataaaaaaaaaaaaaaaa ,,sine...</td>\n",
       "      <td></td>\n",
       "      <td></td>\n",
       "      <td>NKRI Harga Mati</td>\n",
       "    </tr>\n",
       "    <tr>\n",
       "      <th>11</th>\n",
       "      <td>arjuna_wiwaha16</td>\n",
       "      <td>RT @elfizal: Ingatlah! Kekuasaan itu begitu ce...</td>\n",
       "      <td></td>\n",
       "      <td></td>\n",
       "      <td>solo-jogya</td>\n",
       "    </tr>\n",
       "  </tbody>\n",
       "</table>\n",
       "</div>"
      ],
      "text/plain": [
       "           username                                              tweet lat  \\\n",
       "1          gembel68  RT @peni_me: Selamat pagi pak @jokowi mana inf...       \n",
       "2     HadiantoBroer  Pola omongan para menteri dua negara yg hampir...       \n",
       "4   Syamsud41732201  RT @Ain17310272: @NetizenTofa Anak saya suka b...       \n",
       "9      sonny_reudet  RT @Gemacan70:  ternyataaaaaaaaaaaaaaaa ,,sine...       \n",
       "11  arjuna_wiwaha16  RT @elfizal: Ingatlah! Kekuasaan itu begitu ce...       \n",
       "\n",
       "   lon               location  \n",
       "1                   Indonesia  \n",
       "2       Jawa Barat, Indonesia  \n",
       "4         Klaten, Jawa Tengah  \n",
       "9             NKRI Harga Mati  \n",
       "11                 solo-jogya  "
      ]
     },
     "execution_count": 14,
     "metadata": {},
     "output_type": "execute_result"
    }
   ],
   "source": [
    "#menggabungkan data dan menampilkannya \n",
    "datagabung = data0_0.append(data1_1 + data2_2 + data3_3 + data4_4)\n",
    "datagabung.head()"
   ]
  },
  {
   "cell_type": "code",
   "execution_count": 15,
   "metadata": {},
   "outputs": [
    {
     "data": {
      "text/plain": [
       "170301"
      ]
     },
     "execution_count": 15,
     "metadata": {},
     "output_type": "execute_result"
    }
   ],
   "source": [
    "#melihat panjang data\n",
    "len(datagabung)"
   ]
  },
  {
   "cell_type": "markdown",
   "metadata": {},
   "source": [
    "## CSV to Excel "
   ]
  },
  {
   "cell_type": "code",
   "execution_count": 16,
   "metadata": {},
   "outputs": [
    {
     "name": "stdout",
     "output_type": "stream",
     "text": [
      "True\n"
     ]
    }
   ],
   "source": [
    "#memasukan data dan memeriksa apakah ada missing value pada data \n",
    "data0 = pd.read_csv(\"D:/Data Penelitian/1. Data Hasil Crawling Tanpa Clean/Hasil_Tweets3.csv\")\n",
    "print(data0.isnull().any().any())"
   ]
  },
  {
   "cell_type": "code",
   "execution_count": 19,
   "metadata": {},
   "outputs": [
    {
     "data": {
      "text/html": [
       "<div>\n",
       "<style scoped>\n",
       "    .dataframe tbody tr th:only-of-type {\n",
       "        vertical-align: middle;\n",
       "    }\n",
       "\n",
       "    .dataframe tbody tr th {\n",
       "        vertical-align: top;\n",
       "    }\n",
       "\n",
       "    .dataframe thead th {\n",
       "        text-align: right;\n",
       "    }\n",
       "</style>\n",
       "<table border=\"1\" class=\"dataframe\">\n",
       "  <thead>\n",
       "    <tr style=\"text-align: right;\">\n",
       "      <th></th>\n",
       "      <th>username</th>\n",
       "      <th>tweet</th>\n",
       "      <th>lat</th>\n",
       "      <th>lon</th>\n",
       "      <th>location</th>\n",
       "    </tr>\n",
       "  </thead>\n",
       "  <tbody>\n",
       "    <tr>\n",
       "      <th>1</th>\n",
       "      <td>gembel68</td>\n",
       "      <td>RT @peni_me: Selamat pagi pak @jokowi mana inf...</td>\n",
       "      <td></td>\n",
       "      <td></td>\n",
       "      <td>Indonesia</td>\n",
       "    </tr>\n",
       "    <tr>\n",
       "      <th>2</th>\n",
       "      <td>HadiantoBroer</td>\n",
       "      <td>Pola omongan para menteri dua negara yg hampir...</td>\n",
       "      <td></td>\n",
       "      <td></td>\n",
       "      <td>Jawa Barat, Indonesia</td>\n",
       "    </tr>\n",
       "    <tr>\n",
       "      <th>4</th>\n",
       "      <td>Syamsud41732201</td>\n",
       "      <td>RT @Ain17310272: @NetizenTofa Anak saya suka b...</td>\n",
       "      <td></td>\n",
       "      <td></td>\n",
       "      <td>Klaten, Jawa Tengah</td>\n",
       "    </tr>\n",
       "    <tr>\n",
       "      <th>9</th>\n",
       "      <td>sonny_reudet</td>\n",
       "      <td>RT @Gemacan70:  ternyataaaaaaaaaaaaaaaa ,,sine...</td>\n",
       "      <td></td>\n",
       "      <td></td>\n",
       "      <td>NKRI Harga Mati</td>\n",
       "    </tr>\n",
       "    <tr>\n",
       "      <th>11</th>\n",
       "      <td>arjuna_wiwaha16</td>\n",
       "      <td>RT @elfizal: Ingatlah! Kekuasaan itu begitu ce...</td>\n",
       "      <td></td>\n",
       "      <td></td>\n",
       "      <td>solo-jogya</td>\n",
       "    </tr>\n",
       "  </tbody>\n",
       "</table>\n",
       "</div>"
      ],
      "text/plain": [
       "           username                                              tweet lat  \\\n",
       "1          gembel68  RT @peni_me: Selamat pagi pak @jokowi mana inf...       \n",
       "2     HadiantoBroer  Pola omongan para menteri dua negara yg hampir...       \n",
       "4   Syamsud41732201  RT @Ain17310272: @NetizenTofa Anak saya suka b...       \n",
       "9      sonny_reudet  RT @Gemacan70:  ternyataaaaaaaaaaaaaaaa ,,sine...       \n",
       "11  arjuna_wiwaha16  RT @elfizal: Ingatlah! Kekuasaan itu begitu ce...       \n",
       "\n",
       "   lon               location  \n",
       "1                   Indonesia  \n",
       "2       Jawa Barat, Indonesia  \n",
       "4         Klaten, Jawa Tengah  \n",
       "9             NKRI Harga Mati  \n",
       "11                 solo-jogya  "
      ]
     },
     "execution_count": 19,
     "metadata": {},
     "output_type": "execute_result"
    }
   ],
   "source": [
    "#menghilangkan missing value dengan cara dropna \n",
    "data0_0 = data0.dropna()\n",
    "data0_0.head()"
   ]
  },
  {
   "cell_type": "code",
   "execution_count": 20,
   "metadata": {
    "scrolled": true
   },
   "outputs": [
    {
     "name": "stdout",
     "output_type": "stream",
     "text": [
      "76987\n",
      "49426\n"
     ]
    }
   ],
   "source": [
    "#melihat panjang data\n",
    "print(len(data0))\n",
    "print(len(data0_0))"
   ]
  },
  {
   "cell_type": "markdown",
   "metadata": {},
   "source": [
    "#### Menyimpan data ke dalam bentuk Excel (xlsx)"
   ]
  },
  {
   "cell_type": "code",
   "execution_count": 21,
   "metadata": {},
   "outputs": [],
   "source": [
    "data0_0.to_excel(\"D:/Data Penelitian/1. Data Hasil Crawling Tanpa Clean/Hasil_Tweets3.xlsx\")"
   ]
  },
  {
   "cell_type": "code",
   "execution_count": 22,
   "metadata": {},
   "outputs": [],
   "source": [
    "data1_1.to_excel(\"D:/Data Penelitian/1. Data Hasil Crawling Tanpa Clean/Hasil_Tweets6.xlsx\")"
   ]
  },
  {
   "cell_type": "code",
   "execution_count": 23,
   "metadata": {},
   "outputs": [],
   "source": [
    "data2_2.to_excel(\"D:/Data Penelitian/1. Data Hasil Crawling Tanpa Clean/Hasil_Tweets9.xlsx\")"
   ]
  },
  {
   "cell_type": "code",
   "execution_count": 24,
   "metadata": {},
   "outputs": [],
   "source": [
    "data3_3.to_excel(\"D:/Data Penelitian/1. Data Hasil Crawling Tanpa Clean/Hasil_Tweets11.xlsx\")"
   ]
  },
  {
   "cell_type": "code",
   "execution_count": 25,
   "metadata": {},
   "outputs": [],
   "source": [
    "data4_4.to_excel(\"D:/Data Penelitian/1. Data Hasil Crawling Tanpa Clean/Hasil_Tweets12.xlsx\")"
   ]
  },
  {
   "cell_type": "markdown",
   "metadata": {},
   "source": [
    "                                ##Semoga Bermanfaat\n",
    "                                ##@Raspiani_"
   ]
  }
 ],
 "metadata": {
  "kernelspec": {
   "display_name": "Python 3",
   "language": "python",
   "name": "python3"
  },
  "language_info": {
   "codemirror_mode": {
    "name": "ipython",
    "version": 3
   },
   "file_extension": ".py",
   "mimetype": "text/x-python",
   "name": "python",
   "nbconvert_exporter": "python",
   "pygments_lexer": "ipython3",
   "version": "3.6.5"
  }
 },
 "nbformat": 4,
 "nbformat_minor": 2
}
